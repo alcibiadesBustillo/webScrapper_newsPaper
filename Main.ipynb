{
 "metadata": {
  "language_info": {
   "codemirror_mode": {
    "name": "ipython",
    "version": 3
   },
   "file_extension": ".py",
   "mimetype": "text/x-python",
   "name": "python",
   "nbconvert_exporter": "python",
   "pygments_lexer": "ipython3",
   "version": "3.8.2-final"
  },
  "orig_nbformat": 2,
  "kernelspec": {
   "name": "python_defaultSpec_1598819002570",
   "display_name": "Python 3.8.2 64-bit ('.env': venv)"
  }
 },
 "nbformat": 4,
 "nbformat_minor": 2,
 "cells": [
  {
   "cell_type": "markdown",
   "metadata": {},
   "source": [
    "# Web Scrapping"
   ]
  },
  {
   "cell_type": "markdown",
   "metadata": {},
   "source": [
    "Solicitudes a la web"
   ]
  },
  {
   "cell_type": "code",
   "execution_count": 4,
   "metadata": {
    "tags": []
   },
   "outputs": [
    {
     "output_type": "stream",
     "name": "stdout",
     "text": "['__attrs__', '__bool__', '__class__', '__delattr__', '__dict__', '__dir__', '__doc__', '__enter__', '__eq__', '__exit__', '__format__', '__ge__', '__getattribute__', '__getstate__', '__gt__', '__hash__', '__init__', '__init_subclass__', '__iter__', '__le__', '__lt__', '__module__', '__ne__', '__new__', '__nonzero__', '__reduce__', '__reduce_ex__', '__repr__', '__setattr__', '__setstate__', '__sizeof__', '__str__', '__subclasshook__', '__weakref__', '_content', '_content_consumed', '_next', 'apparent_encoding', 'close', 'connection', 'content', 'cookies', 'elapsed', 'encoding', 'headers', 'history', 'is_permanent_redirect', 'is_redirect', 'iter_content', 'iter_lines', 'json', 'links', 'next', 'ok', 'raise_for_status', 'raw', 'reason', 'request', 'status_code', 'text', 'url']\n"
    },
    {
     "output_type": "stream",
     "text": "\u001b[0;31mType:\u001b[0m        Response\n\u001b[0;31mString form:\u001b[0m <Response [200]>\n\u001b[0;31mFile:\u001b[0m        /media/alcy/Alcy's Files/PLATZI/Python/webScrapper_newsPaper/.env/lib/python3.8/site-packages/requests/models.py\n\u001b[0;31mDocstring:\u001b[0m  \nThe :class:`Response <Response>` object, which contains a\nserver's response to an HTTP request.\n"
    }
   ],
   "source": [
    "import requests\n",
    "response = requests.get('https://www.platzi.com')\n",
    "response?\n",
    "print(dir(response))"
   ]
  },
  {
   "cell_type": "code",
   "execution_count": 7,
   "metadata": {
    "tags": [
     "outputPrepend"
    ]
   },
   "outputs": [
    {
     "output_type": "stream",
     "name": "stdout",
     "text": "gles-para-principiantes-54931b71-2ddd-4d61-b214-49495e5e2c40.png\"},{\"color\":\"#fd7d7a\",\"url\":\"/cursos/ingles-basico/\",\"title\":\"Curso de InglÃ©s BÃ¡sico: Fundamentos\",\"badge_url\":\"https://static.platzi.com/media/achievements/badge-basico-ingles-e073f711-763d-4129-badc-5e4baa78b225.png\"},{\"color\":\"#98ca3f\",\"url\":\"/cursos/pronunciacion-ingles/\",\"title\":\"Curso de InglÃ©s BÃ¡sico: PronunciaciÃ³n\",\"badge_url\":\"https://static.platzi.com/media/achievements/badge-ingles-basico-pronunciacion-1-78ef9771-5421-49f9-9e95-8ded9e5c325a.png\"},{\"color\":\"#e32020\",\"url\":\"/cursos/ingles-conversacion/\",\"title\":\"Curso de InglÃ©s BÃ¡sico: ConversaciÃ³n\",\"badge_url\":\"https://static.platzi.com/media/achievements/1371-db5ea3c7-4ac9-4b61-b786-9346ebb3fc7f.png\"},{\"color\":\"#fd7d7a\",\"url\":\"/cursos/ingles-gramatica/\",\"title\":\"Curso de InglÃ©s BÃ¡sico: GramÃ¡tica\",\"badge_url\":\"https://static.platzi.com/media/achievements/1370-836f01ea-6748-4c9f-a8e0-ce51c7c28d0b.png\"},{\"color\":\"#98ca3f\",\"url\":\"/cursos/entrevistas-ingles/\",\"title\":\"Curso de InglÃ©s para Entrevistas de Trabajo\",\"badge_url\":\"https://static.platzi.com/media/achievements/badge-ingles-entrevistas-trabajo-664ab1d6-3fbe-4c7d-983e-ee98159fda40.png\"},{\"color\":\"#98ca3f\",\"url\":\"/cursos/trading-basico/\",\"title\":\"Curso de IntroducciÃ³n al Trading\",\"badge_url\":\"https://static.platzi.com/media/achievements/1403-5739eea5-5dc1-46d8-bc02-0df8c54d4b54.png\"}],\"courses\":[],\"is_cifes\":false,\"order_plans\":[\"monthly_plan\",\"expert_plan\",\"annual_plan\"],\"is_authenticated\":false,\"all_courses\":true,\"hero\":{\"title\":\"La escuela online de formaciÃ³n profesional en tecnologÃ­a\",\"copy\":[{\"percentage\":70,\"text\":\"de los graduados de Platzi \\u003cbr/> duplican sus ingresos\"},{\"percentage\":20,\"text\":\"crean su propia empresa \\u003cbr/> de tecnologÃ­a o startup\"}],\"cta\":\"RegÃ­strate a un curso nuevo\",\"cta2\":\"Comienza ahora\",\"firstClass\":\"Toma tu primera clase\",\"image\":\"https://static.platzi.com/static/images/home-v4/hero_person_md.png\",\"image_2\":\"https://static.platzi.com/static/images/home-v4/hero_person.png\"},\"search_bar\":true,\"categories\":[{\"title\":\"Desarrollo e ingenierÃ­a\",\"url\":\"/categorias/desarrollo/\",\"head\":\"https://static.platzi.com/static/images/christmas/christmas-2018/desarrollo.jpg\",\"courses\":432,\"id\":5,\"color\":\"#33b13a\",\"slug\":\"desarrollo\"},{\"title\":\"DiseÃ±o y UX\",\"url\":\"/categorias/diseno/\",\"head\":\"https://static.platzi.com/static/images/christmas/christmas-2018/design.jpg\",\"courses\":85,\"id\":6,\"color\":\"#6b407e\",\"slug\":\"diseno\"},{\"title\":\"Marketing\",\"url\":\"/categorias/marketing/\",\"head\":\"https://static.platzi.com/static/images/christmas/christmas-2018/marketing.jpg\",\"courses\":75,\"id\":7,\"color\":\"#29b8e8\",\"slug\":\"marketing\"},{\"title\":\"Negocios y emprendimiento\",\"url\":\"/categorias/negocios/\",\"head\":\"https://static.platzi.com/static/images/christmas/christmas-2018/negocios.jpg\",\"courses\":64,\"id\":8,\"color\":\"#f5c443\",\"slug\":\"negocios\"},{\"title\":\"ProducciÃ³n Audiovisual\",\"url\":\"/categorias/produccion-audiovisual/\",\"head\":\"https://static.platzi.com/static/images/christmas/christmas-2018/audiovisual.jpg\",\"courses\":26,\"id\":10,\"color\":\"#fa7800\",\"slug\":\"produccion-audiovisual\"},{\"title\":\"Crecimiento Profesional\",\"url\":\"/categorias/crecimiento-profesional/\",\"head\":\"https://static.platzi.com/static/images/christmas/christmas-2018/crecimiento.jpg\",\"courses\":64,\"id\":11,\"color\":\"#cb161d\",\"slug\":\"crecimiento-profesional\"}],\"i18n\":{\"FirstClass_title\":\"Toma tu primera clase\",\"login.fb\":\"Ingresa con facebook\",\"LaunchDate\":\"Lanzamiento: \",\"login.email.title\":\"Con tu Email\",\"HeroPlansDetail\":\"Con planes para \\u003ca href=\\\"/precios/\\\">personas\\u003c/a> o \\u003ca href=\\\"/empresas/\\\">empresas\\u003c/a>\",\"ResultsTitle\":\"Para mÃ¡s resultados oprime ENTER\",\"courses.title\":\"Nuestros cursos\",\"admin.add\":\"Crear un nuevo curso\",\"contributions.filters.best\":\"Mejores\",\"contributions.filters.new\":\"Nuevos\",\"welcome\":\"RegÃ­strate a Platzi\",\"StudyBannerTitle\":\"Clases en video, lecturas, proyectos colaborativos, desafÃ­os, quizzes, ejercicios, en tu mÃ³vil o escritorio\",\"HomeTestimonials_copy_all\":\"Platzi es la estrategia de formaciÃ³n de miles de personas para conseguir un mejor empleo o crear una empresa de tecnologÃ­a\",\"NextReleases_box_title\":\"PrÃ³ximos lanzamientos\",\"contributions.item.comments\":\"{amount, plural, =0 {Sin comentarios} one {1 comentario} other {{amount} comentarios}}\",\"SuggestCourse-placeholder\":\"Â¿QuÃ© quisieras aprender?\",\"HomeSearch-imput\":\"Busca entre los mÃ¡s de {cursos} cursos\",\"highlighted.empty.primary\":\"Comparte tus conocimientos sobre:\",\"highlighted.readMore\":\"Leer mÃ¡s...\",\"HomeTestimonials_link\":\"Conoce \\u003cstrong>todas las historias\\u003c/strong>\",\"careerList.popular\":\"Populares\",\"continue\":\"ContinÃºa\",\"careerList.more\":\"MÃ¡s carreras\",\"terms\":\"TÃ©rminos de Uso\",\"MeetOurBlog\":\"Conoce nuestro Blog\",\"CareersSectionSubtitle\":\"Al suscribirte, personalizamos tu ruta de aprendizaje para que logres tus objetivos profesionales\",\"SubscribeSectionSuccess\":\"Te has suscrito a las noticias de Platzi\",\"outstanding.recommend\":\"Te recomendamos\",\"login.tw\":\"Ingresa con twitter\",\"privacy\":\"PolÃ­ticas de privacidad\",\"CareersSectionTitle\":\"Tenemos mÃ¡s de {coursesRounded} cursos y {careersSize} carreras\",\"breadcrumb.tutorial\":\"Posts\",\"HeroLearn\":\"Aprende:\",\"CoursesList-message-text\":\"Si ya eres alumno puedes\",\"SuggestCourse-title\":\"No encontramos el curso que buscas.\",\"name\":\"Nombre\",\"HomeTestimonials_title\":\"Historias y testimonios\",\"agree\":\"Acepto los {terms} y {privacy} de Platzi\",\"Platform_title\":\"Platzi funciona\",\"StudyBannerSubtitle\":\"Â¿QuÃ© te detiene a invertir en ti?\",\"contributions.title\":\"Posts\",\"highlighted.empty.button\":\"MÃ¡s cursos\",\"form.title\":\"RegÃ­strate a Platzi\",\"SuggestCourse-recommend\":\"Enviar\",\"NextCourse\":\"PrÃ³ximo Curso\",\"CardCareer\":\"Carrera de\",\"careerList.all\":\"Todas\",\"RegisterSuscribe\":\"SuscrÃ­bete hoy\",\"contributions.filters.drafts\":\"Borradores\",\"login.password.forgot\":\"Â¿Olvidaste tu contraseÃ±a?\",\"HomeSearch-title\":\"Â¿En quÃ© quieres especializarte?\",\"login.social\":\"Con tus redes sociales\",\"form.email\":\"Correo electrÃ³nico\",\"CoursesList-message-cta\":\"Ingresa al curso\",\"HeroCareersCount\":\"y {careersSize} carreras mÃ¡s\",\"startNow\":\"Comienza ahora\",\"RegisterTitle\":\"Aprende de expertos en programaciÃ³n, diseÃ±o, marketing, startups, video y web.\",\"form.name\":\"Nombre\",\"RecentCourses_title\":\"Nuevos cursos lanzados\",\"TestimoniesTitle\":\"Tu felicidad es nuestro Ã©xito\",\"login.email\":\"Correo electrÃ³nico\",\"contributions.filters.top\":\"MÃ¡s votados\",\"breadcrumb.start\":\"Inicio\",\"highlighted.empty.secondary\":\"Â¡SÃ© el primero en crear un post!\",\"Courses\":\"cursos\",\"Business_digital\":\"Capacitamos a tu empresa en transformaciÃ³n digital y las tecnologÃ­as mÃ¡s competitivas del mercado.\",\"Business_link\":\"\\u003cstrong>Inscribe tu empresa\\u003c/strong>\",\"course.material\":\"Materiales\",\"start_learning\":\"Comienza ahora\",\"StudyBannerCTA\":\"Comienza a estudiar\",\"HomeBusinessCta-title\":\"Conoce como \\u003cstrong>inscribir tu empresa\\u003c/strong>\",\"HomeCta-title\":\"La comunidad de estudiantes mÃ¡s grande de latinoamerica\",\"ogin.account\":\"Â¿AÃºn no tienes cuenta? \\u003ca href=\\\"/signup/?next={next}\\\" class=\\\"link\\\">RegÃ­strate aquÃ­\\u003c/a>\",\"form.button\":\"Comienza ahora\",\"email\":\"Correo electrÃ³nico\",\"SuggestCourse-title_2\":\"CuÃ©ntanos quÃ© curso o temÃ¡tica te gustarÃ­a que estÃ© en nuestra plataforma y te notificaremos cuando estÃ© disponible:\",\"mainTitle\":\"RegÃ­strate a Platzi\"}}}</script>\n          <script id=\"initialProps\" >window.initialProps = {}</script>\n          <script id=\"translations\" >window.translations = {\"messages\":{\"contactus_title\":\"Â¿Tienes dudas o quieres comunicarte con nosotros?\",\"contactus_subtitle\":\"Elige el medio que mÃ¡s te convenga, te sugerimos \",\"write\":\"EscrÃ­benos\",\"dm\":\"Mensaje Directo\",\"telephone\":\"TelÃ©fono\",\"continue_watching\":\"Continua viendo\",\"all_courses\":\"Ver todos mis cursos\",\"username\":\"Â¡Hola, {{user_name}}!\",\"subscriptionTime\":\"Tienes {subscription_time} dÃ­as de tu Plan\",\"view_profile\":\"Ver mi Perfil\",\"logout\":\"Cerrar sesiÃ³n\",\"login\":\"Iniciar sesiÃ³n\",\"live_in\":\"En Vivo\",\"live\":\"live\",\"menu\":\"MenÃº\",\"view_plans\":\"Quiero saber mÃ¡s\",\"view_plans2\":\"Quiero saber mÃ¡s\",\"courses\":\"Cursos\",\"more_results\":\"MÃ¡s resultados\",\"header.search.learningPaths\":\"Ruta de aprendizaje\",\"no_results\":\"No tenemos resultados destacados\",\"avanced_search\":\"Presiona ENTER para una busqueda avanzada\",\"init_plan\":\"Iniciar mi plan\",\"init_plan2\":\"Planes\",\"switch_language\":\"Do you want to switch to Platzi in English?\",\"switch_english\":\"Yes, switch to English\",\"user_login\":\"Inicia sesiÃ³n o crea tu cuenta\",\"nextPage\":\"Siguiente\",\"searchPlaceholder\":\"Buscar en Platzi\",\"login_live_text\":\"Participa en sesiones en vivo y foros de Platzi\",\"login_courses_text\":\"Accede a mÃ¡s de 120 cursos\",\"login_opportunities\":\"Accede a mejores oportunidades laborales\",\"mark_as_read\":\"Marcar todas como leÃ­das\",\"title\":\"Tus notificaciones\",\"hide\":\"Ocultar\",\"hide_description\":\"Ocultar esta notificaciÃ³n del historial\",\"undo\":\"Deshacer\",\"notification_hidden\":\"Se ocultÃ³ la notificatiÃ³n.\",\"notification_empty_title\":\"Â¡AÃºn no tienes notificaciones!\",\"notification_emtpy_subtitle\":\"Participa, comparte y discute para empezar a recibir notificaciones\",\"see_all\":\"Ver todas\",\"notifications_disabled_title\":\"Â¡Tus notificaciones estÃ¡n desactivadas!\",\"notification_not_available_title\":\"Â¡Lo sentimos!\",\"notifications_not_available_subtitle\":\"El contenido al que intentas acceder no se encuentra disponible.\",\"notifications_disabled_subtitle\":\"Para recibir nuevamente tus notificaciones debes activarlas en \\u003cspan class=\\\"icon-cog\\\">\\u003c/span>\",\"required_courses\":\"Cursos ObrigatÃ³rios\",\"awardsText\":\"Reconocidos y premiados por\",\"CertifiersText\":\"Certificadores oficiales en tecnologÃ­as\",\"fromLatam\":\"De LATAM con \",\"toTheWorld\":\"para el mundo\",\"FooterShareLink\":\"Comparte este link y por cada registro con esta URL te damos un mes\",\"FooterCopyLink\":\"ingrese un link\",\"qualityEducation\":\"Transformamos la economÃ­a de nuestros paÃ­ses entrenando a la prÃ³xima generaciÃ³n de profesionales en tecnologÃ­a.\",\"FooterfollowUs\":\"Aprende en nuestras redes:\",\"FooterChangeLang\":\"Cambiar idioma\",\"SubscribeSectionTitle\":\"EntÃ©rate de todas las novedades en educaciÃ³n, negocios y tecnologÃ­a\",\"SubscribeSectionCTA\":\"SuscrÃ­bete\",\"YourEmail\":\"Correo electrÃ³nico\",\"EnterYourEmail\":\"Ingresa tu correo electrÃ³nico\",\"LoginSocial-facebook-login\":\"Inicia sesiÃ³n con Facebook\",\"LoginSocial-twitter-login\":\"Inicia sesiÃ³n con Twitter\",\"login_email\":\"Tu email\",\"login_password\":\"Tu contraseÃ±a\",\"LoginWithEmail-login\":\"Inicia sesiÃ³n\",\"LoginWithEmail-lostpassword\":\"Â¿Olvidaste tu contraseÃ±a?\",\"AccountFooter-title-register\":\"Â¿AÃºn no tienes cuenta en Platzi?\",\"AccountFooter-register\":\"RegÃ­strate\",\"AccountFooter-login\":\"Inicia tu sesiÃ³n\",\"AccountFooter-title-login \":\"Â¿Ya tienes una cuenta?\",\"RegisterButton-email\":\"RegÃ­strate con tu Email\",\"LoginSocial-twitter-register\":\"RegÃ­strate con Twitter\",\"LoginSocial-facebook-register\":\" RegÃ­strate con Facebook\",\"planExpert\":\"Plan Expert\",\"planExpertText\":\"Desarrolla tus habilidades en programaciÃ³n, diseÃ±o, producciÃ³n audiovisual, marketing y muchas mÃ¡s. Mide tu progreso y recibe certificados con tu nombre a finalizar cada curso.\",\"user_points\":\"{{points}} pts\",\"countdown_text\":\"Termina en\",\"countdown_text_pre\":\"Comienza en: \",\"billing.title\":\"Ingresar datos de facturaciÃ³n\",\"billing.subtitle\":\"InformaciÃ³n obligatoria unicamente para tus facturas. ResoluciÃ³n 30 de 2019 tÃ­tulo II ArtÃ­culo 2 (la siguiente informaciÃ³n no podrÃ¡ ser cambiada).\",\"billing.person\":\"Persona Natural\",\"billing.company\":\"Empresa\",\"billing.indentity\":\"IdentificaciÃ³n\",\"billing.ubication\":\"UbicaciÃ³n\",\"billing.person.name\":\"* Nombre\",\"billing.person.surname\":\"* Apellido\",\"billing.company.name\":\"* RazÃ³n Social\",\"billing.id.name\":\"* NÃºmero de documento\",\"billing.email\":\"* Correo electrÃ³nico\",\"billing.id.type\":\"* Tipo de documento\",\"billing.id.number\":\"* NÃºmero de documento\",\"billing.state\":\"* Estado / Departamento\",\"billing.city\":\"* Ciudad\",\"billing.address\":\"* DirecciÃ³n\",\"billing.cta.save\":\"GUARDAR DATOS\",\"billing.missing-fields.warning\":\"* Datos requeridos\",\"billing.missing-fields.error\":\"Hay datos requeridos sin llenar\",\"welcome\":\"RegÃ­strate a Platzi\",\"name\":\"Nombre\",\"email\":\"Correo electrÃ³nico\",\"start_learning\":\"Comienza ahora\",\"mainTitle\":\"RegÃ­strate a Platzi\",\"startNow\":\"Comienza ahora\",\"login.fb\":\"Ingresa con facebook\",\"login.social\":\"Con tus redes sociales\",\"login.tw\":\"Ingresa con twitter\",\"login.email.title\":\"Con tu Email\",\"login.email\":\"Correo electrÃ³nico\",\"login.password.forgot\":\"Â¿Olvidaste tu contraseÃ±a?\",\"ogin.account\":\"Â¿AÃºn no tienes cuenta? \\u003ca href=\\\"/signup/?next={{next}}\\\" class=\\\"link\\\">RegÃ­strate aquÃ­\\u003c/a>\",\"careerList.all\":\"Todas\",\"careerList.more\":\"MÃ¡s carreras\",\"careerList.popular\":\"Populares\",\"breadcrumb.start\":\"Inicio\",\"breadcrumb.tutorial\":\"Posts\",\"highlighted.readMore\":\"Leer mÃ¡s...\",\"highlighted.empty.primary\":\"Comparte tus conocimientos sobre:\",\"highlighted.empty.secondary\":\"Â¡SÃ© el primero en crear un post!\",\"highlighted.empty.button\":\"MÃ¡s cursos\",\"form.title\":\"RegÃ­strate a Platzi\",\"form.name\":\"Nombre\",\"form.email\":\"Correo electrÃ³nico\",\"form.button\":\"Comienza ahora\",\"outstanding.recommend\":\"Te recomendamos\",\"contributions.title\":\"Posts\",\"contributions.filters.best\":\"Mejores\",\"contributions.filters.drafts\":\"Borradores\",\"contributions.filters.new\":\"Nuevos\",\"contributions.filters.top\":\"MÃ¡s votados\",\"contributions.item.comments\":\"{amount, plural, =0 {Sin comentarios} one {1 comentario} other {{amount} comentarios}}\",\"agree\":\"AquÃ­ puedes ver nuestros {{terms}} y actualizaciones de nuestras {{privacy}}\",\"terms\":\"TÃ©rminos de Uso\",\"privacy\":\"polÃ­ticas de privacidad\",\"courses.title\":\"Nuestros cursos\",\"admin.add\":\"Crear un nuevo curso\",\"course.material\":\"Materiales\",\"continue\":\"ContinÃºa\",\"MeetOurBlog\":\"Conoce nuestro Blog\",\"StudyBannerTitle\":\"Clases en video, lecturas, proyectos colaborativos, desafÃ­os, quizzes, ejercicios, en tu mÃ³vil o escritorio\",\"StudyBannerSubtitle\":\"Â¿QuÃ© te detiene a invertir en ti?\",\"StudyBannerCTA\":\"Comienza a estudiar\",\"CareersSectionTitle\":\"Tenemos mÃ¡s de {{coursesRounded}} cursos y {{careersSize}} carreras\",\"CareersSectionSubtitle\":\"Al suscribirte, personalizamos tu ruta de aprendizaje para que logres tus objetivos profesionales\",\"HeroLearn\":\"Aprende:\",\"HeroCareersCount\":\"y {{careersSize}} carreras mÃ¡s\",\"HeroPlansDetail\":\"Con planes para \\u003ca href=\\\"/precios/\\\">personas\\u003c/a> o \\u003ca href=\\\"/empresas/\\\">empresas\\u003c/a>\",\"NextCourse\":\"PrÃ³ximo Curso\",\"LaunchDate\":\"Lanzamiento: \",\"RegisterTitle\":\"Aprende de expertos en programaciÃ³n, diseÃ±o, marketing, startups, video y web.\",\"RegisterSuscribe\":\"SuscrÃ­bete hoy\",\"ResultsTitle\":\"Para mÃ¡s resultados oprime ENTER\",\"TestimoniesTitle\":\"Tu felicidad es nuestro Ã©xito\",\"CardCareer\":\"Carrera de\",\"Courses\":\"cursos\",\"Business_digital\":\"Capacitamos a tu empresa en transformaciÃ³n digital y las tecnologÃ­as mÃ¡s competitivas del mercado.\",\"Business_link\":\"\\u003cstrong>Inscribe tu empresa\\u003c/strong>\",\"NextReleases_box_title\":\"PrÃ³ximos lanzamientos\",\"HomeTestimonials_title\":\"Historias y testimonios\",\"HomeSearch-title\":\"Â¿En quÃ© quieres especializarte?\",\"HomeSearch-imput\":\"Busca entre los mÃ¡s de {{cursos}} cursos\",\"Platform_title\":\"Platzi funciona\",\"HomeTestimonials_copy_all\":\"Platzi es la estrategia de formaciÃ³n de miles de personas para conseguir un mejor empleo o crear una empresa de tecnologÃ­a\",\"HomeTestimonials_link\":\"Conoce \\u003cstrong>todas las historias\\u003c/strong>\",\"FirstClass_title\":\"Toma tu primera clase\",\"RecentCourses_title\":\"Nuevos cursos lanzados\",\"HomeCta-title\":\"La comunidad de estudiantes mÃ¡s grande de latinoamerica\",\"HomeBusinessCta-title\":\"Conoce como \\u003cstrong>inscribir tu empresa\\u003c/strong>\",\"SuggestCourse-title\":\"No encontramos el curso que buscas.\",\"SuggestCourse-title_2\":\"CuÃ©ntanos quÃ© curso o temÃ¡tica te gustarÃ­a que estÃ© en nuestra plataforma y te notificaremos cuando estÃ© disponible:\",\"SuggestCourse-placeholder\":\"Â¿QuÃ© quisieras aprender?\",\"SuggestCourse-recommend\":\"Enviar\",\"CoursesList-message-text\":\"Si ya eres alumno puedes\",\"CoursesList-message-cta\":\"Ingresa al curso\",\"SubscribeSectionSuccess\":\"Te has suscrito a las noticias de Platzi\",\"HeroContent_title\":\"La escuela online de formaciÃ³n profesional en tecnologÃ­a\",\"HeroContent-stats-70\":\"{{percentage}}\\u003ci>%\\u003c/i>\",\"HeroContent-stats-70copy\":\"de los graduados de Platzi \\u003cbr /> duplican sus ingresos\",\"HeroContent-stats-20\":\"{{percentage}}\\u003ci>%\\u003c/i>\",\"HeroContent-stats-20copy\":\"crean su propia empresa \\u003cbr /> de tecnologÃ­a o startup\",\"HeroContent-action-subscribe\":\"Comienza ahora\",\"HeroContent-action-firstClass\":\"Toma tu primera clase\",\"HomeCta-btn\":\"Comienza ahora\",\"SearchResults_courses\":\"Cursos\",\"SearchResults_lp\":\"Rutas de aprendizaje\",\"acceptTerms\":\"Nunca pares de aprender sobre la seguridad de tus datos\",\"accept\":\"TÃ©rminos de Uso\",\"details_text_mobile\":\"Compra Platzi Expert a un precio especial\",\"before\":\"Antes\",\"save\":\"Ahorras\",\"details_text_desktop\":\"Acelera tu carrera profesional \\u003cbr /> \\u003cstrong>Compra Platzi Expert a un precio especial\\u003c/strong>\",\"home.HotSalePromo.text\":\"\\u003cstrong>Todos los cursos\\u003c/strong> y rutas de aprendizaje \\u003cbr /> de Platzi por un aÃ±o\",\"home.HotSalePromo.aviable\":\"TERMINA EN\",\"home.HotSalePromo.before\":\"ANTES: {{amount}}\",\"home.HotSalePromo.save\":\"AHORRAS: {{amount}}\",\"home.HotSalePromo.buy\":\"Comprar\",\"pricing.benefits.head.title\":\"Elige un plan y empieza a estudiar\",\"pricing.benefits.head.pricing\":\"Precios en {{currency}}\",\"pricing.benefits.head.buy\":\"Compra segura\",\"pricing.benefits.head.payments\":\"MÃºltiples medios de pago\",\"pricing.business.heading\":\"Platzi para empresas\",\"pricing.business.title\":\"Â¿Necesitas capacitaciÃ³n para tu empresa?\",\"pricing.business.subtitle\":\"Tenemos planes especiales. ConÃ³celos en:\",\"PlanColumn_save_price\":\"Ahorras {{symbol}}{{save}} vs Basic\",\"pricing.planCta.buy\":\"Comprar\",\"pricing.planCta.buyCourse\":\"Comprar curso\"},\"locale\":\"es-CO\"}</script>\n          <script async src=\"https://cdnjs.cloudflare.com/ajax/libs/lazysizes/5.2.0/lazysizes.min.js\" async></script>\n          <script async src=\"https://static.platzi.com/mf-landings/assets/home.ba8e01881601b526c9a8.js\" type=\"text/javascript\"></script>\n          <script async src=\"https://static.platzi.com/mf-landings/assets/vendor.98a0d383a4d836fdf59a.js\" type=\"text/javascript\"></script>\n          <script async type=\"application/ld+json\">\n            {\n                \"@context\": \"http://schema.org\",\n                \"@type\": \"Organization\",\n                \"name\": \"Platzi\",\n                \"url\": \"https://platzi.com/\",\n                \"description\": \"Aprende de expertos en programaciÃ³n, diseÃ±o, marketing, startups, video y web. SuscrÃ­bete hoy.\",\n                \"foundingDate\": \"2013-01-01\",\n                \"founders\": [\n                    {\n                        \"@type\": \"Person\",\n                        \"name\": \"John Freddy Vega\"\n                    },\n                    {\n                        \"@type\": \"Person\",\n                        \"name\": \"Christian Van Der Henst\"\n                    }\n                ],\n                \"sameAs\": [\n                    \"https://www.facebook.com/platzi/\",\n                    \"https://twitter.com/Platzi\",\n                    \"https://www.youtube.com/channel/UC55-mxUj5Nj3niXFReG44OQ\",\n                    \"https://www.linkedin.com/school/2822346\"\n                ]\n            }\n          </script>\n          <script>\n            window.ga('platziFull.send', 'event', 'Test-home', 'impression');\n          </script>\n          <!-- GTM Second Stage (noscript) -->\n          <noscript><iframe src=\"https://www.googletagmanager.com/ns.html?id=GTM-MPT6TFW\"\n          height=\"0\" width=\"0\" style=\"display:none;visibility:hidden\"></iframe></noscript>\n          <!-- GTM Second Stage (noscript) -->\n        </body>\n      </html >\n  \n"
    }
   ],
   "source": [
    "print(response.headers['Date'])\n",
    "print(response.text)"
   ]
  },
  {
   "cell_type": "markdown",
   "metadata": {},
   "source": [
    "## Extract information from HTML\n"
   ]
  },
  {
   "cell_type": "code",
   "execution_count": 9,
   "metadata": {
    "tags": []
   },
   "outputs": [
    {
     "output_type": "stream",
     "name": "stdout",
     "text": "ðPlatzi: âCursos Online Profesionales de TecnologÃ­a\n[<meta content=\"Aprende desde cero a crear el futuro web con nuestros Cursos Online Profesionales de TecnologÃ­a. ðÂ¡Cursos de Desarrollo, DiseÃ±o, Marketing y Negocios!\" name=\"description\"/>]\n"
    }
   ],
   "source": [
    "import bs4\n",
    "\n",
    "soup = bs4.BeautifulSoup(response.text, 'html.parser')\n",
    "\n",
    "print(soup.title.text)\n",
    "print(soup.select('meta[name=description]'))"
   ]
  },
  {
   "cell_type": "markdown",
   "metadata": {},
   "source": [
    "# Using Pandas"
   ]
  },
  {
   "cell_type": "code",
   "execution_count": 3,
   "metadata": {},
   "outputs": [],
   "source": [
    "import pandas as pd"
   ]
  },
  {
   "cell_type": "markdown",
   "metadata": {},
   "source": [
    "## Series"
   ]
  },
  {
   "cell_type": "code",
   "execution_count": 4,
   "metadata": {},
   "outputs": [
    {
     "output_type": "execute_result",
     "data": {
      "text/plain": "0    100\n1    200\n2    300\ndtype: int64"
     },
     "metadata": {},
     "execution_count": 4
    }
   ],
   "source": [
    "series_test = pd.Series([100, 200, 300])\n",
    "series_test"
   ]
  },
  {
   "cell_type": "code",
   "execution_count": 5,
   "metadata": {},
   "outputs": [
    {
     "output_type": "execute_result",
     "data": {
      "text/plain": "1999    48\n2000    65\n2001    89\ndtype: int64"
     },
     "metadata": {},
     "execution_count": 5
    }
   ],
   "source": [
    "series_test2 = pd.Series({1999: 48, \n",
    "                          2000: 65,\n",
    "                          2001: 89 })\n",
    "series_test2"
   ]
  },
  {
   "cell_type": "markdown",
   "metadata": {},
   "source": [
    "## DataFrames"
   ]
  },
  {
   "cell_type": "code",
   "execution_count": 6,
   "metadata": {},
   "outputs": [
    {
     "output_type": "execute_result",
     "data": {
      "text/plain": "   1999  2000  2001\n0    74    12    23\n1    34   110    45\n2    67    56    67",
      "text/html": "<div>\n<style scoped>\n    .dataframe tbody tr th:only-of-type {\n        vertical-align: middle;\n    }\n\n    .dataframe tbody tr th {\n        vertical-align: top;\n    }\n\n    .dataframe thead th {\n        text-align: right;\n    }\n</style>\n<table border=\"1\" class=\"dataframe\">\n  <thead>\n    <tr style=\"text-align: right;\">\n      <th></th>\n      <th>1999</th>\n      <th>2000</th>\n      <th>2001</th>\n    </tr>\n  </thead>\n  <tbody>\n    <tr>\n      <th>0</th>\n      <td>74</td>\n      <td>12</td>\n      <td>23</td>\n    </tr>\n    <tr>\n      <th>1</th>\n      <td>34</td>\n      <td>110</td>\n      <td>45</td>\n    </tr>\n    <tr>\n      <th>2</th>\n      <td>67</td>\n      <td>56</td>\n      <td>67</td>\n    </tr>\n  </tbody>\n</table>\n</div>"
     },
     "metadata": {},
     "execution_count": 6
    }
   ],
   "source": [
    "frame_test = pd.DataFrame({1999:[74, 34, 67],\n",
    "                           2000:[12, 110, 56],\n",
    "                           2001:[23, 45, 67]})\n",
    "frame_test"
   ]
  },
  {
   "cell_type": "code",
   "execution_count": 16,
   "metadata": {
    "tags": []
   },
   "outputs": [
    {
     "output_type": "stream",
     "name": "stdout",
     "text": "a    74\nb    12\nc    23\nName: 1999, dtype: int64\n   1999  2000\na    74    34\nb    12   110\nc    23    45\n"
    }
   ],
   "source": [
    "frame_test2 = pd.DataFrame([[74, 34, 67],\n",
    "                            [12, 110, 56],\n",
    "                            [23, 45, 67]], \n",
    "                            columns=[1999,2000,2001],\n",
    "                            index = ['a', 'b', 'c'])\n",
    "\n"
   ]
  },
  {
   "cell_type": "markdown",
   "metadata": {},
   "source": [
    "# Indices and selection"
   ]
  },
  {
   "cell_type": "code",
   "execution_count": 31,
   "metadata": {
    "tags": []
   },
   "outputs": [
    {
     "output_type": "stream",
     "name": "stdout",
     "text": "a    74\nb    12\nc    23\nName: 1999, dtype: int64\n\n   1999  2000\na    74    34\nb    12   110\nc    23    45\n\n   1999  2000\na    74    34\n\n   2000  2001\na    34    67\nb   110    56\n\n   1999  2000  2001\na    74    34    67\nb    12   110    56\nc    23    45    67\n\na    74\nb    12\nName: 1999, dtype: int64\n\n"
    }
   ],
   "source": [
    "# Selecting one column\n",
    "print(frame_test2[1999])\n",
    "print()\n",
    "# Selecting multiple columns\n",
    "print(frame_test2[[1999, 2000]])\n",
    "print()\n",
    "\n",
    "# numpy like\n",
    "print(frame_test2.iloc[:1,:2])\n",
    "print()\n",
    "\n",
    "print(frame_test2.iloc[:2,1:3])\n",
    "print()\n",
    "\n",
    "# label based\n",
    "print(frame_test2.loc[:])\n",
    "print()\n",
    "\n",
    "print(frame_test2.loc['a':'b', 1999])\n",
    "print()"
   ]
  },
  {
   "cell_type": "markdown",
   "metadata": {},
   "source": [
    "## Read data"
   ]
  },
  {
   "cell_type": "code",
   "execution_count": 41,
   "metadata": {},
   "outputs": [
    {
     "output_type": "execute_result",
     "data": {
      "text/plain": "                                                 body  \\\n0   \\nLa cantante Ariana Grande demostró que puede...   \n1   \\nDespués de posponerlo por varios meses, este...   \n2   \\n\\nPriorizar es una característica del ser hu...   \n3   \\nEntre el estallamiento de la pandemia en Méx...   \n4   \\nPablo Guede llegó a Tijuana con la ilusión d...   \n..                                                ...   \n21  \\nLeer en español\\nMembers of the Jalisco New ...   \n22  \\nEcatepec.- En el Estado de México se instala...   \n23  \\n\\nQue tan hondo habrá calado en el ánimo mor...   \n24  \\n\\nDespués de la revolución rusa de 1917, se ...   \n25  \\n\\nEl año pasado, el ala liberal del partido ...   \n\n                                                title  \\\n0                                                 NaN   \n1   Hace felices el “Record Store Day” a los mexic...   \n2                                                 NaN   \n3                                                 NaN   \n4   La preocupación de Pablo Guede, tras la derrot...   \n..                                                ...   \n21  The Jalisco New Generation Cartel uses drones ...   \n22  Recolectan firmas en Ecatepec para respaldar j...   \n23                                                NaN   \n24                                                NaN   \n25                                                NaN   \n\n                                                  url  \n0   https://www.viveusa.mx/showbiz/ariana-grande-c...  \n1   https://www.eluniversal.com.mx/espectaculos/ha...  \n2   http://www.eluniversal.com.mx/opinion/arnoldo-...  \n3   http://www.eluniversal.com.mx/opinion/roberto-...  \n4   https://www.eluniversal.com.mx/universal-depor...  \n..                                                ...  \n21  https://www.eluniversal.com.mx/english/jalisco...  \n22  https://www.eluniversal.com.mx/metropoli/recol...  \n23  http://www.eluniversal.com.mx/opinion/periodis...  \n24  http://www.eluniversal.com.mx/opinion/sara-sef...  \n25  http://www.eluniversal.com.mx/opinion/jean-mey...  \n\n[26 rows x 3 columns]",
      "text/html": "<div>\n<style scoped>\n    .dataframe tbody tr th:only-of-type {\n        vertical-align: middle;\n    }\n\n    .dataframe tbody tr th {\n        vertical-align: top;\n    }\n\n    .dataframe thead th {\n        text-align: right;\n    }\n</style>\n<table border=\"1\" class=\"dataframe\">\n  <thead>\n    <tr style=\"text-align: right;\">\n      <th></th>\n      <th>body</th>\n      <th>title</th>\n      <th>url</th>\n    </tr>\n  </thead>\n  <tbody>\n    <tr>\n      <th>0</th>\n      <td>\\nLa cantante Ariana Grande demostró que puede...</td>\n      <td>NaN</td>\n      <td>https://www.viveusa.mx/showbiz/ariana-grande-c...</td>\n    </tr>\n    <tr>\n      <th>1</th>\n      <td>\\nDespués de posponerlo por varios meses, este...</td>\n      <td>Hace felices el “Record Store Day” a los mexic...</td>\n      <td>https://www.eluniversal.com.mx/espectaculos/ha...</td>\n    </tr>\n    <tr>\n      <th>2</th>\n      <td>\\n\\nPriorizar es una característica del ser hu...</td>\n      <td>NaN</td>\n      <td>http://www.eluniversal.com.mx/opinion/arnoldo-...</td>\n    </tr>\n    <tr>\n      <th>3</th>\n      <td>\\nEntre el estallamiento de la pandemia en Méx...</td>\n      <td>NaN</td>\n      <td>http://www.eluniversal.com.mx/opinion/roberto-...</td>\n    </tr>\n    <tr>\n      <th>4</th>\n      <td>\\nPablo Guede llegó a Tijuana con la ilusión d...</td>\n      <td>La preocupación de Pablo Guede, tras la derrot...</td>\n      <td>https://www.eluniversal.com.mx/universal-depor...</td>\n    </tr>\n    <tr>\n      <th>...</th>\n      <td>...</td>\n      <td>...</td>\n      <td>...</td>\n    </tr>\n    <tr>\n      <th>21</th>\n      <td>\\nLeer en español\\nMembers of the Jalisco New ...</td>\n      <td>The Jalisco New Generation Cartel uses drones ...</td>\n      <td>https://www.eluniversal.com.mx/english/jalisco...</td>\n    </tr>\n    <tr>\n      <th>22</th>\n      <td>\\nEcatepec.- En el Estado de México se instala...</td>\n      <td>Recolectan firmas en Ecatepec para respaldar j...</td>\n      <td>https://www.eluniversal.com.mx/metropoli/recol...</td>\n    </tr>\n    <tr>\n      <th>23</th>\n      <td>\\n\\nQue tan hondo habrá calado en el ánimo mor...</td>\n      <td>NaN</td>\n      <td>http://www.eluniversal.com.mx/opinion/periodis...</td>\n    </tr>\n    <tr>\n      <th>24</th>\n      <td>\\n\\nDespués de la revolución rusa de 1917, se ...</td>\n      <td>NaN</td>\n      <td>http://www.eluniversal.com.mx/opinion/sara-sef...</td>\n    </tr>\n    <tr>\n      <th>25</th>\n      <td>\\n\\nEl año pasado, el ala liberal del partido ...</td>\n      <td>NaN</td>\n      <td>http://www.eluniversal.com.mx/opinion/jean-mey...</td>\n    </tr>\n  </tbody>\n</table>\n<p>26 rows × 3 columns</p>\n</div>"
     },
     "metadata": {},
     "execution_count": 41
    }
   ],
   "source": [
    "pd.options.display.max_rows = 10\n",
    "\n",
    "el_universal = pd.read_csv('eluniversal_20_08_30_articles.csv')\n",
    "#el_universal.head(10)\n",
    "#el_universal.tail()\n",
    "el_universal\n"
   ]
  },
  {
   "cell_type": "markdown",
   "metadata": {},
   "source": [
    "## Index and selection"
   ]
  },
  {
   "cell_type": "code",
   "execution_count": 42,
   "metadata": {},
   "outputs": [
    {
     "output_type": "execute_result",
     "data": {
      "text/plain": "0                                                   NaN\n1     Hace felices el “Record Store Day” a los mexic...\n2                                                   NaN\n3                                                   NaN\n4     La preocupación de Pablo Guede, tras la derrot...\n                            ...                        \n21    The Jalisco New Generation Cartel uses drones ...\n22    Recolectan firmas en Ecatepec para respaldar j...\n23                                                  NaN\n24                                                  NaN\n25                                                  NaN\nName: title, Length: 26, dtype: object"
     },
     "metadata": {},
     "execution_count": 42
    }
   ],
   "source": [
    "# dictionary like\n",
    "el_universal['title']"
   ]
  },
  {
   "cell_type": "code",
   "execution_count": 43,
   "metadata": {},
   "outputs": [
    {
     "output_type": "execute_result",
     "data": {
      "text/plain": "                                                title  \\\n0                                                 NaN   \n1   Hace felices el “Record Store Day” a los mexic...   \n2                                                 NaN   \n3                                                 NaN   \n4   La preocupación de Pablo Guede, tras la derrot...   \n..                                                ...   \n21  The Jalisco New Generation Cartel uses drones ...   \n22  Recolectan firmas en Ecatepec para respaldar j...   \n23                                                NaN   \n24                                                NaN   \n25                                                NaN   \n\n                                                  url  \n0   https://www.viveusa.mx/showbiz/ariana-grande-c...  \n1   https://www.eluniversal.com.mx/espectaculos/ha...  \n2   http://www.eluniversal.com.mx/opinion/arnoldo-...  \n3   http://www.eluniversal.com.mx/opinion/roberto-...  \n4   https://www.eluniversal.com.mx/universal-depor...  \n..                                                ...  \n21  https://www.eluniversal.com.mx/english/jalisco...  \n22  https://www.eluniversal.com.mx/metropoli/recol...  \n23  http://www.eluniversal.com.mx/opinion/periodis...  \n24  http://www.eluniversal.com.mx/opinion/sara-sef...  \n25  http://www.eluniversal.com.mx/opinion/jean-mey...  \n\n[26 rows x 2 columns]",
      "text/html": "<div>\n<style scoped>\n    .dataframe tbody tr th:only-of-type {\n        vertical-align: middle;\n    }\n\n    .dataframe tbody tr th {\n        vertical-align: top;\n    }\n\n    .dataframe thead th {\n        text-align: right;\n    }\n</style>\n<table border=\"1\" class=\"dataframe\">\n  <thead>\n    <tr style=\"text-align: right;\">\n      <th></th>\n      <th>title</th>\n      <th>url</th>\n    </tr>\n  </thead>\n  <tbody>\n    <tr>\n      <th>0</th>\n      <td>NaN</td>\n      <td>https://www.viveusa.mx/showbiz/ariana-grande-c...</td>\n    </tr>\n    <tr>\n      <th>1</th>\n      <td>Hace felices el “Record Store Day” a los mexic...</td>\n      <td>https://www.eluniversal.com.mx/espectaculos/ha...</td>\n    </tr>\n    <tr>\n      <th>2</th>\n      <td>NaN</td>\n      <td>http://www.eluniversal.com.mx/opinion/arnoldo-...</td>\n    </tr>\n    <tr>\n      <th>3</th>\n      <td>NaN</td>\n      <td>http://www.eluniversal.com.mx/opinion/roberto-...</td>\n    </tr>\n    <tr>\n      <th>4</th>\n      <td>La preocupación de Pablo Guede, tras la derrot...</td>\n      <td>https://www.eluniversal.com.mx/universal-depor...</td>\n    </tr>\n    <tr>\n      <th>...</th>\n      <td>...</td>\n      <td>...</td>\n    </tr>\n    <tr>\n      <th>21</th>\n      <td>The Jalisco New Generation Cartel uses drones ...</td>\n      <td>https://www.eluniversal.com.mx/english/jalisco...</td>\n    </tr>\n    <tr>\n      <th>22</th>\n      <td>Recolectan firmas en Ecatepec para respaldar j...</td>\n      <td>https://www.eluniversal.com.mx/metropoli/recol...</td>\n    </tr>\n    <tr>\n      <th>23</th>\n      <td>NaN</td>\n      <td>http://www.eluniversal.com.mx/opinion/periodis...</td>\n    </tr>\n    <tr>\n      <th>24</th>\n      <td>NaN</td>\n      <td>http://www.eluniversal.com.mx/opinion/sara-sef...</td>\n    </tr>\n    <tr>\n      <th>25</th>\n      <td>NaN</td>\n      <td>http://www.eluniversal.com.mx/opinion/jean-mey...</td>\n    </tr>\n  </tbody>\n</table>\n<p>26 rows × 2 columns</p>\n</div>"
     },
     "metadata": {},
     "execution_count": 43
    }
   ],
   "source": [
    "el_universal[['title', 'url']] "
   ]
  },
  {
   "cell_type": "code",
   "execution_count": 45,
   "metadata": {},
   "outputs": [
    {
     "output_type": "execute_result",
     "data": {
      "text/plain": "                                                 body  \\\n10  \\n\\n\\n\\nMiahuatlán de Porfirio Díaz.- Vito Iri...   \n11  \\nLa sierra eléctrica no cesa, el sonido del t...   \n12  \\nLa pandemia del Covid-19 genera una devastac...   \n13  \\nA pesar del paso irregular de los Tigres y –...   \n14  \\nEs sábado por la noche. Hay poca gente en lo...   \n\n                                               title  \\\n10  “Pasamos meses sin vender ni un litro de mezcal”   \n11                                               NaN   \n12                                               NaN   \n13                                               NaN   \n14                                               NaN   \n\n                                                  url  \n10  http://www.eluniversal.com.mx/estados/pasamos-...  \n11  http://www.eluniversal.com.mx/opinion/gaby-var...  \n12  http://www.eluniversal.com.mx/nacion/senado-es...  \n13  https://www.eluniversal.com.mx/universal-depor...  \n14  https://www.eluniversal.com.mx/metropoli/plaga...  ",
      "text/html": "<div>\n<style scoped>\n    .dataframe tbody tr th:only-of-type {\n        vertical-align: middle;\n    }\n\n    .dataframe tbody tr th {\n        vertical-align: top;\n    }\n\n    .dataframe thead th {\n        text-align: right;\n    }\n</style>\n<table border=\"1\" class=\"dataframe\">\n  <thead>\n    <tr style=\"text-align: right;\">\n      <th></th>\n      <th>body</th>\n      <th>title</th>\n      <th>url</th>\n    </tr>\n  </thead>\n  <tbody>\n    <tr>\n      <th>10</th>\n      <td>\\n\\n\\n\\nMiahuatlán de Porfirio Díaz.- Vito Iri...</td>\n      <td>“Pasamos meses sin vender ni un litro de mezcal”</td>\n      <td>http://www.eluniversal.com.mx/estados/pasamos-...</td>\n    </tr>\n    <tr>\n      <th>11</th>\n      <td>\\nLa sierra eléctrica no cesa, el sonido del t...</td>\n      <td>NaN</td>\n      <td>http://www.eluniversal.com.mx/opinion/gaby-var...</td>\n    </tr>\n    <tr>\n      <th>12</th>\n      <td>\\nLa pandemia del Covid-19 genera una devastac...</td>\n      <td>NaN</td>\n      <td>http://www.eluniversal.com.mx/nacion/senado-es...</td>\n    </tr>\n    <tr>\n      <th>13</th>\n      <td>\\nA pesar del paso irregular de los Tigres y –...</td>\n      <td>NaN</td>\n      <td>https://www.eluniversal.com.mx/universal-depor...</td>\n    </tr>\n    <tr>\n      <th>14</th>\n      <td>\\nEs sábado por la noche. Hay poca gente en lo...</td>\n      <td>NaN</td>\n      <td>https://www.eluniversal.com.mx/metropoli/plaga...</td>\n    </tr>\n  </tbody>\n</table>\n</div>"
     },
     "metadata": {},
     "execution_count": 45
    }
   ],
   "source": [
    "# Numpy like\n",
    "el_universal.iloc[10:15]"
   ]
  },
  {
   "cell_type": "code",
   "execution_count": 47,
   "metadata": {},
   "outputs": [
    {
     "output_type": "execute_result",
     "data": {
      "text/plain": "'Hace felices el “Record Store Day” a los mexicanos'"
     },
     "metadata": {},
     "execution_count": 47
    }
   ],
   "source": [
    "el_universal.iloc[1]['title']"
   ]
  },
  {
   "cell_type": "code",
   "execution_count": 49,
   "metadata": {},
   "outputs": [
    {
     "output_type": "execute_result",
     "data": {
      "text/plain": "0    \\nLa cantante Ariana Grande demostró que puede...\n1    \\nDespués de posponerlo por varios meses, este...\n2    \\n\\nPriorizar es una característica del ser hu...\n3    \\nEntre el estallamiento de la pandemia en Méx...\n4    \\nPablo Guede llegó a Tijuana con la ilusión d...\nName: body, dtype: object"
     },
     "metadata": {},
     "execution_count": 49
    }
   ],
   "source": [
    "el_universal.iloc[:5,0]\n"
   ]
  },
  {
   "cell_type": "code",
   "execution_count": 50,
   "metadata": {},
   "outputs": [
    {
     "output_type": "execute_result",
     "data": {
      "text/plain": "                                                 body  \\\n0   \\nLa cantante Ariana Grande demostró que puede...   \n1   \\nDespués de posponerlo por varios meses, este...   \n2   \\n\\nPriorizar es una característica del ser hu...   \n3   \\nEntre el estallamiento de la pandemia en Méx...   \n4   \\nPablo Guede llegó a Tijuana con la ilusión d...   \n..                                                ...   \n21  \\nLeer en español\\nMembers of the Jalisco New ...   \n22  \\nEcatepec.- En el Estado de México se instala...   \n23  \\n\\nQue tan hondo habrá calado en el ánimo mor...   \n24  \\n\\nDespués de la revolución rusa de 1917, se ...   \n25  \\n\\nEl año pasado, el ala liberal del partido ...   \n\n                                                title  \n0                                                 NaN  \n1   Hace felices el “Record Store Day” a los mexic...  \n2                                                 NaN  \n3                                                 NaN  \n4   La preocupación de Pablo Guede, tras la derrot...  \n..                                                ...  \n21  The Jalisco New Generation Cartel uses drones ...  \n22  Recolectan firmas en Ecatepec para respaldar j...  \n23                                                NaN  \n24                                                NaN  \n25                                                NaN  \n\n[26 rows x 2 columns]",
      "text/html": "<div>\n<style scoped>\n    .dataframe tbody tr th:only-of-type {\n        vertical-align: middle;\n    }\n\n    .dataframe tbody tr th {\n        vertical-align: top;\n    }\n\n    .dataframe thead th {\n        text-align: right;\n    }\n</style>\n<table border=\"1\" class=\"dataframe\">\n  <thead>\n    <tr style=\"text-align: right;\">\n      <th></th>\n      <th>body</th>\n      <th>title</th>\n    </tr>\n  </thead>\n  <tbody>\n    <tr>\n      <th>0</th>\n      <td>\\nLa cantante Ariana Grande demostró que puede...</td>\n      <td>NaN</td>\n    </tr>\n    <tr>\n      <th>1</th>\n      <td>\\nDespués de posponerlo por varios meses, este...</td>\n      <td>Hace felices el “Record Store Day” a los mexic...</td>\n    </tr>\n    <tr>\n      <th>2</th>\n      <td>\\n\\nPriorizar es una característica del ser hu...</td>\n      <td>NaN</td>\n    </tr>\n    <tr>\n      <th>3</th>\n      <td>\\nEntre el estallamiento de la pandemia en Méx...</td>\n      <td>NaN</td>\n    </tr>\n    <tr>\n      <th>4</th>\n      <td>\\nPablo Guede llegó a Tijuana con la ilusión d...</td>\n      <td>La preocupación de Pablo Guede, tras la derrot...</td>\n    </tr>\n    <tr>\n      <th>...</th>\n      <td>...</td>\n      <td>...</td>\n    </tr>\n    <tr>\n      <th>21</th>\n      <td>\\nLeer en español\\nMembers of the Jalisco New ...</td>\n      <td>The Jalisco New Generation Cartel uses drones ...</td>\n    </tr>\n    <tr>\n      <th>22</th>\n      <td>\\nEcatepec.- En el Estado de México se instala...</td>\n      <td>Recolectan firmas en Ecatepec para respaldar j...</td>\n    </tr>\n    <tr>\n      <th>23</th>\n      <td>\\n\\nQue tan hondo habrá calado en el ánimo mor...</td>\n      <td>NaN</td>\n    </tr>\n    <tr>\n      <th>24</th>\n      <td>\\n\\nDespués de la revolución rusa de 1917, se ...</td>\n      <td>NaN</td>\n    </tr>\n    <tr>\n      <th>25</th>\n      <td>\\n\\nEl año pasado, el ala liberal del partido ...</td>\n      <td>NaN</td>\n    </tr>\n  </tbody>\n</table>\n<p>26 rows × 2 columns</p>\n</div>"
     },
     "metadata": {},
     "execution_count": 50
    }
   ],
   "source": [
    "# Pandas like\n",
    "el_universal.loc[:,'body':'title']"
   ]
  },
  {
   "cell_type": "markdown",
   "metadata": {},
   "source": [
    "## Data wrangling"
   ]
  },
  {
   "cell_type": "code",
   "execution_count": 52,
   "metadata": {},
   "outputs": [
    {
     "output_type": "execute_result",
     "data": {
      "text/plain": "                                                 body  \\\n0   \\nLa cantante Ariana Grande demostró que puede...   \n1   \\nDespués de posponerlo por varios meses, este...   \n2   \\n\\nPriorizar es una característica del ser hu...   \n3   \\nEntre el estallamiento de la pandemia en Méx...   \n4   \\nPablo Guede llegó a Tijuana con la ilusión d...   \n..                                                ...   \n21  \\nLeer en español\\nMembers of the Jalisco New ...   \n22  \\nEcatepec.- En el Estado de México se instala...   \n23  \\n\\nQue tan hondo habrá calado en el ánimo mor...   \n24  \\n\\nDespués de la revolución rusa de 1917, se ...   \n25  \\n\\nEl año pasado, el ala liberal del partido ...   \n\n                                                title  \\\n0                                                 NaN   \n1   Hace felices el “Record Store Day” a los mexic...   \n2                                                 NaN   \n3                                                 NaN   \n4   La preocupación de Pablo Guede, tras la derrot...   \n..                                                ...   \n21  The Jalisco New Generation Cartel uses drones ...   \n22  Recolectan firmas en Ecatepec para respaldar j...   \n23                                                NaN   \n24                                                NaN   \n25                                                NaN   \n\n                                                  url news_paper_uid  \n0   https://www.viveusa.mx/showbiz/ariana-grande-c...    eluniversal  \n1   https://www.eluniversal.com.mx/espectaculos/ha...    eluniversal  \n2   http://www.eluniversal.com.mx/opinion/arnoldo-...    eluniversal  \n3   http://www.eluniversal.com.mx/opinion/roberto-...    eluniversal  \n4   https://www.eluniversal.com.mx/universal-depor...    eluniversal  \n..                                                ...            ...  \n21  https://www.eluniversal.com.mx/english/jalisco...    eluniversal  \n22  https://www.eluniversal.com.mx/metropoli/recol...    eluniversal  \n23  http://www.eluniversal.com.mx/opinion/periodis...    eluniversal  \n24  http://www.eluniversal.com.mx/opinion/sara-sef...    eluniversal  \n25  http://www.eluniversal.com.mx/opinion/jean-mey...    eluniversal  \n\n[26 rows x 4 columns]",
      "text/html": "<div>\n<style scoped>\n    .dataframe tbody tr th:only-of-type {\n        vertical-align: middle;\n    }\n\n    .dataframe tbody tr th {\n        vertical-align: top;\n    }\n\n    .dataframe thead th {\n        text-align: right;\n    }\n</style>\n<table border=\"1\" class=\"dataframe\">\n  <thead>\n    <tr style=\"text-align: right;\">\n      <th></th>\n      <th>body</th>\n      <th>title</th>\n      <th>url</th>\n      <th>news_paper_uid</th>\n    </tr>\n  </thead>\n  <tbody>\n    <tr>\n      <th>0</th>\n      <td>\\nLa cantante Ariana Grande demostró que puede...</td>\n      <td>NaN</td>\n      <td>https://www.viveusa.mx/showbiz/ariana-grande-c...</td>\n      <td>eluniversal</td>\n    </tr>\n    <tr>\n      <th>1</th>\n      <td>\\nDespués de posponerlo por varios meses, este...</td>\n      <td>Hace felices el “Record Store Day” a los mexic...</td>\n      <td>https://www.eluniversal.com.mx/espectaculos/ha...</td>\n      <td>eluniversal</td>\n    </tr>\n    <tr>\n      <th>2</th>\n      <td>\\n\\nPriorizar es una característica del ser hu...</td>\n      <td>NaN</td>\n      <td>http://www.eluniversal.com.mx/opinion/arnoldo-...</td>\n      <td>eluniversal</td>\n    </tr>\n    <tr>\n      <th>3</th>\n      <td>\\nEntre el estallamiento de la pandemia en Méx...</td>\n      <td>NaN</td>\n      <td>http://www.eluniversal.com.mx/opinion/roberto-...</td>\n      <td>eluniversal</td>\n    </tr>\n    <tr>\n      <th>4</th>\n      <td>\\nPablo Guede llegó a Tijuana con la ilusión d...</td>\n      <td>La preocupación de Pablo Guede, tras la derrot...</td>\n      <td>https://www.eluniversal.com.mx/universal-depor...</td>\n      <td>eluniversal</td>\n    </tr>\n    <tr>\n      <th>...</th>\n      <td>...</td>\n      <td>...</td>\n      <td>...</td>\n      <td>...</td>\n    </tr>\n    <tr>\n      <th>21</th>\n      <td>\\nLeer en español\\nMembers of the Jalisco New ...</td>\n      <td>The Jalisco New Generation Cartel uses drones ...</td>\n      <td>https://www.eluniversal.com.mx/english/jalisco...</td>\n      <td>eluniversal</td>\n    </tr>\n    <tr>\n      <th>22</th>\n      <td>\\nEcatepec.- En el Estado de México se instala...</td>\n      <td>Recolectan firmas en Ecatepec para respaldar j...</td>\n      <td>https://www.eluniversal.com.mx/metropoli/recol...</td>\n      <td>eluniversal</td>\n    </tr>\n    <tr>\n      <th>23</th>\n      <td>\\n\\nQue tan hondo habrá calado en el ánimo mor...</td>\n      <td>NaN</td>\n      <td>http://www.eluniversal.com.mx/opinion/periodis...</td>\n      <td>eluniversal</td>\n    </tr>\n    <tr>\n      <th>24</th>\n      <td>\\n\\nDespués de la revolución rusa de 1917, se ...</td>\n      <td>NaN</td>\n      <td>http://www.eluniversal.com.mx/opinion/sara-sef...</td>\n      <td>eluniversal</td>\n    </tr>\n    <tr>\n      <th>25</th>\n      <td>\\n\\nEl año pasado, el ala liberal del partido ...</td>\n      <td>NaN</td>\n      <td>http://www.eluniversal.com.mx/opinion/jean-mey...</td>\n      <td>eluniversal</td>\n    </tr>\n  </tbody>\n</table>\n<p>26 rows × 4 columns</p>\n</div>"
     },
     "metadata": {},
     "execution_count": 52
    }
   ],
   "source": [
    "# 1. Add newspaper_uid to the DataFrame\n",
    "\n",
    "el_universal['news_paper_uid'] = 'eluniversal'\n",
    "el_universal"
   ]
  },
  {
   "cell_type": "code",
   "execution_count": 53,
   "metadata": {},
   "outputs": [
    {
     "output_type": "execute_result",
     "data": {
      "text/plain": "                                                 body  \\\n0   \\nLa cantante Ariana Grande demostró que puede...   \n1   \\nDespués de posponerlo por varios meses, este...   \n2   \\n\\nPriorizar es una característica del ser hu...   \n3   \\nEntre el estallamiento de la pandemia en Méx...   \n4   \\nPablo Guede llegó a Tijuana con la ilusión d...   \n..                                                ...   \n21  \\nLeer en español\\nMembers of the Jalisco New ...   \n22  \\nEcatepec.- En el Estado de México se instala...   \n23  \\n\\nQue tan hondo habrá calado en el ánimo mor...   \n24  \\n\\nDespués de la revolución rusa de 1917, se ...   \n25  \\n\\nEl año pasado, el ala liberal del partido ...   \n\n                                                title  \\\n0                                                 NaN   \n1   Hace felices el “Record Store Day” a los mexic...   \n2                                                 NaN   \n3                                                 NaN   \n4   La preocupación de Pablo Guede, tras la derrot...   \n..                                                ...   \n21  The Jalisco New Generation Cartel uses drones ...   \n22  Recolectan firmas en Ecatepec para respaldar j...   \n23                                                NaN   \n24                                                NaN   \n25                                                NaN   \n\n                                                  url news_paper_uid  \\\n0   https://www.viveusa.mx/showbiz/ariana-grande-c...    eluniversal   \n1   https://www.eluniversal.com.mx/espectaculos/ha...    eluniversal   \n2   http://www.eluniversal.com.mx/opinion/arnoldo-...    eluniversal   \n3   http://www.eluniversal.com.mx/opinion/roberto-...    eluniversal   \n4   https://www.eluniversal.com.mx/universal-depor...    eluniversal   \n..                                                ...            ...   \n21  https://www.eluniversal.com.mx/english/jalisco...    eluniversal   \n22  https://www.eluniversal.com.mx/metropoli/recol...    eluniversal   \n23  http://www.eluniversal.com.mx/opinion/periodis...    eluniversal   \n24  http://www.eluniversal.com.mx/opinion/sara-sef...    eluniversal   \n25  http://www.eluniversal.com.mx/opinion/jean-mey...    eluniversal   \n\n                      host  \n0           www.viveusa.mx  \n1   www.eluniversal.com.mx  \n2   www.eluniversal.com.mx  \n3   www.eluniversal.com.mx  \n4   www.eluniversal.com.mx  \n..                     ...  \n21  www.eluniversal.com.mx  \n22  www.eluniversal.com.mx  \n23  www.eluniversal.com.mx  \n24  www.eluniversal.com.mx  \n25  www.eluniversal.com.mx  \n\n[26 rows x 5 columns]",
      "text/html": "<div>\n<style scoped>\n    .dataframe tbody tr th:only-of-type {\n        vertical-align: middle;\n    }\n\n    .dataframe tbody tr th {\n        vertical-align: top;\n    }\n\n    .dataframe thead th {\n        text-align: right;\n    }\n</style>\n<table border=\"1\" class=\"dataframe\">\n  <thead>\n    <tr style=\"text-align: right;\">\n      <th></th>\n      <th>body</th>\n      <th>title</th>\n      <th>url</th>\n      <th>news_paper_uid</th>\n      <th>host</th>\n    </tr>\n  </thead>\n  <tbody>\n    <tr>\n      <th>0</th>\n      <td>\\nLa cantante Ariana Grande demostró que puede...</td>\n      <td>NaN</td>\n      <td>https://www.viveusa.mx/showbiz/ariana-grande-c...</td>\n      <td>eluniversal</td>\n      <td>www.viveusa.mx</td>\n    </tr>\n    <tr>\n      <th>1</th>\n      <td>\\nDespués de posponerlo por varios meses, este...</td>\n      <td>Hace felices el “Record Store Day” a los mexic...</td>\n      <td>https://www.eluniversal.com.mx/espectaculos/ha...</td>\n      <td>eluniversal</td>\n      <td>www.eluniversal.com.mx</td>\n    </tr>\n    <tr>\n      <th>2</th>\n      <td>\\n\\nPriorizar es una característica del ser hu...</td>\n      <td>NaN</td>\n      <td>http://www.eluniversal.com.mx/opinion/arnoldo-...</td>\n      <td>eluniversal</td>\n      <td>www.eluniversal.com.mx</td>\n    </tr>\n    <tr>\n      <th>3</th>\n      <td>\\nEntre el estallamiento de la pandemia en Méx...</td>\n      <td>NaN</td>\n      <td>http://www.eluniversal.com.mx/opinion/roberto-...</td>\n      <td>eluniversal</td>\n      <td>www.eluniversal.com.mx</td>\n    </tr>\n    <tr>\n      <th>4</th>\n      <td>\\nPablo Guede llegó a Tijuana con la ilusión d...</td>\n      <td>La preocupación de Pablo Guede, tras la derrot...</td>\n      <td>https://www.eluniversal.com.mx/universal-depor...</td>\n      <td>eluniversal</td>\n      <td>www.eluniversal.com.mx</td>\n    </tr>\n    <tr>\n      <th>...</th>\n      <td>...</td>\n      <td>...</td>\n      <td>...</td>\n      <td>...</td>\n      <td>...</td>\n    </tr>\n    <tr>\n      <th>21</th>\n      <td>\\nLeer en español\\nMembers of the Jalisco New ...</td>\n      <td>The Jalisco New Generation Cartel uses drones ...</td>\n      <td>https://www.eluniversal.com.mx/english/jalisco...</td>\n      <td>eluniversal</td>\n      <td>www.eluniversal.com.mx</td>\n    </tr>\n    <tr>\n      <th>22</th>\n      <td>\\nEcatepec.- En el Estado de México se instala...</td>\n      <td>Recolectan firmas en Ecatepec para respaldar j...</td>\n      <td>https://www.eluniversal.com.mx/metropoli/recol...</td>\n      <td>eluniversal</td>\n      <td>www.eluniversal.com.mx</td>\n    </tr>\n    <tr>\n      <th>23</th>\n      <td>\\n\\nQue tan hondo habrá calado en el ánimo mor...</td>\n      <td>NaN</td>\n      <td>http://www.eluniversal.com.mx/opinion/periodis...</td>\n      <td>eluniversal</td>\n      <td>www.eluniversal.com.mx</td>\n    </tr>\n    <tr>\n      <th>24</th>\n      <td>\\n\\nDespués de la revolución rusa de 1917, se ...</td>\n      <td>NaN</td>\n      <td>http://www.eluniversal.com.mx/opinion/sara-sef...</td>\n      <td>eluniversal</td>\n      <td>www.eluniversal.com.mx</td>\n    </tr>\n    <tr>\n      <th>25</th>\n      <td>\\n\\nEl año pasado, el ala liberal del partido ...</td>\n      <td>NaN</td>\n      <td>http://www.eluniversal.com.mx/opinion/jean-mey...</td>\n      <td>eluniversal</td>\n      <td>www.eluniversal.com.mx</td>\n    </tr>\n  </tbody>\n</table>\n<p>26 rows × 5 columns</p>\n</div>"
     },
     "metadata": {},
     "execution_count": 53
    }
   ],
   "source": [
    "# 2. Get host\n",
    "from urllib.parse import urlparse\n",
    "\n",
    "el_universal['host'] = el_universal['url'].apply(lambda url: urlparse(url).netloc)\n",
    "el_universal"
   ]
  },
  {
   "cell_type": "code",
   "execution_count": 54,
   "metadata": {},
   "outputs": [
    {
     "output_type": "execute_result",
     "data": {
      "text/plain": "www.eluniversal.com.mx    25\nwww.viveusa.mx             1\nName: host, dtype: int64"
     },
     "metadata": {},
     "execution_count": 54
    }
   ],
   "source": [
    "el_universal['host'].value_counts()"
   ]
  }
 ]
}